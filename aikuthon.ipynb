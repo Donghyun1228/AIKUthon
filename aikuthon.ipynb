{
  "nbformat": 4,
  "nbformat_minor": 0,
  "metadata": {
    "colab": {
      "provenance": []
    },
    "kernelspec": {
      "name": "python3",
      "display_name": "Python 3"
    },
    "language_info": {
      "name": "python"
    }
  },
  "cells": [
    {
      "cell_type": "code",
      "source": [
        "pip install kaggle"
      ],
      "metadata": {
        "colab": {
          "base_uri": "https://localhost:8080/"
        },
        "id": "pLQQBN44eASk",
        "outputId": "188e03a8-77e2-4db5-cef5-df5257f9c2dc"
      },
      "execution_count": null,
      "outputs": [
        {
          "output_type": "stream",
          "name": "stdout",
          "text": [
            "Requirement already satisfied: kaggle in /usr/local/lib/python3.10/dist-packages (1.6.17)\n",
            "Requirement already satisfied: six>=1.10 in /usr/local/lib/python3.10/dist-packages (from kaggle) (1.16.0)\n",
            "Requirement already satisfied: certifi>=2023.7.22 in /usr/local/lib/python3.10/dist-packages (from kaggle) (2024.7.4)\n",
            "Requirement already satisfied: python-dateutil in /usr/local/lib/python3.10/dist-packages (from kaggle) (2.8.2)\n",
            "Requirement already satisfied: requests in /usr/local/lib/python3.10/dist-packages (from kaggle) (2.32.3)\n",
            "Requirement already satisfied: tqdm in /usr/local/lib/python3.10/dist-packages (from kaggle) (4.66.5)\n",
            "Requirement already satisfied: python-slugify in /usr/local/lib/python3.10/dist-packages (from kaggle) (8.0.4)\n",
            "Requirement already satisfied: urllib3 in /usr/local/lib/python3.10/dist-packages (from kaggle) (2.0.7)\n",
            "Requirement already satisfied: bleach in /usr/local/lib/python3.10/dist-packages (from kaggle) (6.1.0)\n",
            "Requirement already satisfied: webencodings in /usr/local/lib/python3.10/dist-packages (from bleach->kaggle) (0.5.1)\n",
            "Requirement already satisfied: text-unidecode>=1.3 in /usr/local/lib/python3.10/dist-packages (from python-slugify->kaggle) (1.3)\n",
            "Requirement already satisfied: charset-normalizer<4,>=2 in /usr/local/lib/python3.10/dist-packages (from requests->kaggle) (3.3.2)\n",
            "Requirement already satisfied: idna<4,>=2.5 in /usr/local/lib/python3.10/dist-packages (from requests->kaggle) (3.8)\n"
          ]
        }
      ]
    },
    {
      "cell_type": "code",
      "source": [
        "from google.colab import drive\n",
        "drive.mount('/content/drive', force_remount=True)"
      ],
      "metadata": {
        "colab": {
          "base_uri": "https://localhost:8080/",
          "height": 311
        },
        "id": "oaQtmzsTf-r9",
        "outputId": "b6344f37-ded2-4553-b3b0-3aeaf2e68421"
      },
      "execution_count": null,
      "outputs": [
        {
          "output_type": "error",
          "ename": "MessageError",
          "evalue": "Error: credential propagation was unsuccessful",
          "traceback": [
            "\u001b[0;31m---------------------------------------------------------------------------\u001b[0m",
            "\u001b[0;31mMessageError\u001b[0m                              Traceback (most recent call last)",
            "\u001b[0;32m<ipython-input-3-a145c0899d7d>\u001b[0m in \u001b[0;36m<cell line: 2>\u001b[0;34m()\u001b[0m\n\u001b[1;32m      1\u001b[0m \u001b[0;32mfrom\u001b[0m \u001b[0mgoogle\u001b[0m\u001b[0;34m.\u001b[0m\u001b[0mcolab\u001b[0m \u001b[0;32mimport\u001b[0m \u001b[0mdrive\u001b[0m\u001b[0;34m\u001b[0m\u001b[0;34m\u001b[0m\u001b[0m\n\u001b[0;32m----> 2\u001b[0;31m \u001b[0mdrive\u001b[0m\u001b[0;34m.\u001b[0m\u001b[0mmount\u001b[0m\u001b[0;34m(\u001b[0m\u001b[0;34m'/content/drive'\u001b[0m\u001b[0;34m,\u001b[0m \u001b[0mforce_remount\u001b[0m\u001b[0;34m=\u001b[0m\u001b[0;32mTrue\u001b[0m\u001b[0;34m)\u001b[0m\u001b[0;34m\u001b[0m\u001b[0;34m\u001b[0m\u001b[0m\n\u001b[0m",
            "\u001b[0;32m/usr/local/lib/python3.10/dist-packages/google/colab/drive.py\u001b[0m in \u001b[0;36mmount\u001b[0;34m(mountpoint, force_remount, timeout_ms, readonly)\u001b[0m\n\u001b[1;32m     98\u001b[0m \u001b[0;32mdef\u001b[0m \u001b[0mmount\u001b[0m\u001b[0;34m(\u001b[0m\u001b[0mmountpoint\u001b[0m\u001b[0;34m,\u001b[0m \u001b[0mforce_remount\u001b[0m\u001b[0;34m=\u001b[0m\u001b[0;32mFalse\u001b[0m\u001b[0;34m,\u001b[0m \u001b[0mtimeout_ms\u001b[0m\u001b[0;34m=\u001b[0m\u001b[0;36m120000\u001b[0m\u001b[0;34m,\u001b[0m \u001b[0mreadonly\u001b[0m\u001b[0;34m=\u001b[0m\u001b[0;32mFalse\u001b[0m\u001b[0;34m)\u001b[0m\u001b[0;34m:\u001b[0m\u001b[0;34m\u001b[0m\u001b[0;34m\u001b[0m\u001b[0m\n\u001b[1;32m     99\u001b[0m   \u001b[0;34m\"\"\"Mount your Google Drive at the specified mountpoint path.\"\"\"\u001b[0m\u001b[0;34m\u001b[0m\u001b[0;34m\u001b[0m\u001b[0m\n\u001b[0;32m--> 100\u001b[0;31m   return _mount(\n\u001b[0m\u001b[1;32m    101\u001b[0m       \u001b[0mmountpoint\u001b[0m\u001b[0;34m,\u001b[0m\u001b[0;34m\u001b[0m\u001b[0;34m\u001b[0m\u001b[0m\n\u001b[1;32m    102\u001b[0m       \u001b[0mforce_remount\u001b[0m\u001b[0;34m=\u001b[0m\u001b[0mforce_remount\u001b[0m\u001b[0;34m,\u001b[0m\u001b[0;34m\u001b[0m\u001b[0;34m\u001b[0m\u001b[0m\n",
            "\u001b[0;32m/usr/local/lib/python3.10/dist-packages/google/colab/drive.py\u001b[0m in \u001b[0;36m_mount\u001b[0;34m(mountpoint, force_remount, timeout_ms, ephemeral, readonly)\u001b[0m\n\u001b[1;32m    131\u001b[0m   )\n\u001b[1;32m    132\u001b[0m   \u001b[0;32mif\u001b[0m \u001b[0mephemeral\u001b[0m\u001b[0;34m:\u001b[0m\u001b[0;34m\u001b[0m\u001b[0;34m\u001b[0m\u001b[0m\n\u001b[0;32m--> 133\u001b[0;31m     _message.blocking_request(\n\u001b[0m\u001b[1;32m    134\u001b[0m         \u001b[0;34m'request_auth'\u001b[0m\u001b[0;34m,\u001b[0m\u001b[0;34m\u001b[0m\u001b[0;34m\u001b[0m\u001b[0m\n\u001b[1;32m    135\u001b[0m         \u001b[0mrequest\u001b[0m\u001b[0;34m=\u001b[0m\u001b[0;34m{\u001b[0m\u001b[0;34m'authType'\u001b[0m\u001b[0;34m:\u001b[0m \u001b[0;34m'dfs_ephemeral'\u001b[0m\u001b[0;34m}\u001b[0m\u001b[0;34m,\u001b[0m\u001b[0;34m\u001b[0m\u001b[0;34m\u001b[0m\u001b[0m\n",
            "\u001b[0;32m/usr/local/lib/python3.10/dist-packages/google/colab/_message.py\u001b[0m in \u001b[0;36mblocking_request\u001b[0;34m(request_type, request, timeout_sec, parent)\u001b[0m\n\u001b[1;32m    174\u001b[0m       \u001b[0mrequest_type\u001b[0m\u001b[0;34m,\u001b[0m \u001b[0mrequest\u001b[0m\u001b[0;34m,\u001b[0m \u001b[0mparent\u001b[0m\u001b[0;34m=\u001b[0m\u001b[0mparent\u001b[0m\u001b[0;34m,\u001b[0m \u001b[0mexpect_reply\u001b[0m\u001b[0;34m=\u001b[0m\u001b[0;32mTrue\u001b[0m\u001b[0;34m\u001b[0m\u001b[0;34m\u001b[0m\u001b[0m\n\u001b[1;32m    175\u001b[0m   )\n\u001b[0;32m--> 176\u001b[0;31m   \u001b[0;32mreturn\u001b[0m \u001b[0mread_reply_from_input\u001b[0m\u001b[0;34m(\u001b[0m\u001b[0mrequest_id\u001b[0m\u001b[0;34m,\u001b[0m \u001b[0mtimeout_sec\u001b[0m\u001b[0;34m)\u001b[0m\u001b[0;34m\u001b[0m\u001b[0;34m\u001b[0m\u001b[0m\n\u001b[0m",
            "\u001b[0;32m/usr/local/lib/python3.10/dist-packages/google/colab/_message.py\u001b[0m in \u001b[0;36mread_reply_from_input\u001b[0;34m(message_id, timeout_sec)\u001b[0m\n\u001b[1;32m    101\u001b[0m     ):\n\u001b[1;32m    102\u001b[0m       \u001b[0;32mif\u001b[0m \u001b[0;34m'error'\u001b[0m \u001b[0;32min\u001b[0m \u001b[0mreply\u001b[0m\u001b[0;34m:\u001b[0m\u001b[0;34m\u001b[0m\u001b[0;34m\u001b[0m\u001b[0m\n\u001b[0;32m--> 103\u001b[0;31m         \u001b[0;32mraise\u001b[0m \u001b[0mMessageError\u001b[0m\u001b[0;34m(\u001b[0m\u001b[0mreply\u001b[0m\u001b[0;34m[\u001b[0m\u001b[0;34m'error'\u001b[0m\u001b[0;34m]\u001b[0m\u001b[0;34m)\u001b[0m\u001b[0;34m\u001b[0m\u001b[0;34m\u001b[0m\u001b[0m\n\u001b[0m\u001b[1;32m    104\u001b[0m       \u001b[0;32mreturn\u001b[0m \u001b[0mreply\u001b[0m\u001b[0;34m.\u001b[0m\u001b[0mget\u001b[0m\u001b[0;34m(\u001b[0m\u001b[0;34m'data'\u001b[0m\u001b[0;34m,\u001b[0m \u001b[0;32mNone\u001b[0m\u001b[0;34m)\u001b[0m\u001b[0;34m\u001b[0m\u001b[0;34m\u001b[0m\u001b[0m\n\u001b[1;32m    105\u001b[0m \u001b[0;34m\u001b[0m\u001b[0m\n",
            "\u001b[0;31mMessageError\u001b[0m: Error: credential propagation was unsuccessful"
          ]
        }
      ]
    },
    {
      "cell_type": "code",
      "source": [
        "from google.colab import files\n",
        "\n",
        "# kaggle.json 파일 업로드\n",
        "files.upload()\n"
      ],
      "metadata": {
        "id": "-Ui-0AglfgxQ"
      },
      "execution_count": null,
      "outputs": []
    },
    {
      "cell_type": "code",
      "source": [
        "!mkdir -p ~/.kaggle\n",
        "!cp kaggle.json ~/.kaggle/\n",
        "!chmod 600 ~/.kaggle/kaggle.json\n"
      ],
      "metadata": {
        "id": "BTeZc8tufn_C"
      },
      "execution_count": null,
      "outputs": []
    },
    {
      "cell_type": "code",
      "source": [
        "import kaggle\n",
        "!kaggle competitions download -c 6th-aikuthon -p /content/drive/MyDrive/Kaggle/6th-aikuthon\n"
      ],
      "metadata": {
        "id": "mKwkgBZfeGBJ"
      },
      "execution_count": null,
      "outputs": []
    },
    {
      "cell_type": "code",
      "source": [
        "!unzip /content/drive/MyDrive/Kaggle/6th-aikuthon/6th-aikuthon.zip -d /content/drive/MyDrive/Kaggle/6th-aikuthon/\n"
      ],
      "metadata": {
        "colab": {
          "base_uri": "https://localhost:8080/"
        },
        "id": "4SuFXHWJg9mW",
        "outputId": "6b6ce7bc-ee16-4bc9-c904-e600d450bf17"
      },
      "execution_count": null,
      "outputs": [
        {
          "output_type": "stream",
          "name": "stdout",
          "text": [
            "Archive:  /content/drive/MyDrive/Kaggle/6th-aikuthon/6th-aikuthon.zip\n",
            "  inflating: /content/drive/MyDrive/Kaggle/6th-aikuthon/sample_submission.csv  \n",
            "  inflating: /content/drive/MyDrive/Kaggle/6th-aikuthon/test.json  \n",
            "  inflating: /content/drive/MyDrive/Kaggle/6th-aikuthon/train.json  \n"
          ]
        }
      ]
    },
    {
      "cell_type": "code",
      "source": [
        "import pandas as pd\n",
        "import numpy as np"
      ],
      "metadata": {
        "id": "54iqI7SRqWnl"
      },
      "execution_count": null,
      "outputs": []
    },
    {
      "cell_type": "code",
      "source": [
        "from google.colab import drive\n",
        "import json\n",
        "# json 파일 경로\n",
        "file_path_train = '/content/drive/MyDrive/Kaggle/6th-aikuthon/train.json'\n",
        "file_path_test = '/content/drive/MyDrive/Kaggle/6th-aikuthon/test.json'\n",
        "\n",
        "# json 파일 열기 및 파싱\n",
        "trainset = pd.read_json(file_path_train)\n",
        "trainset = pd.read_json(file_path_test)\n",
        "\n",
        "# 데이터 확인\n",
        "print(trainset)\n",
        "print(testset)\n"
      ],
      "metadata": {
        "colab": {
          "base_uri": "https://localhost:8080/",
          "height": 216
        },
        "id": "MM5Fr9uBg40S",
        "outputId": "3bd7772b-6954-4819-ab52-6cf140f2f2e1"
      },
      "execution_count": null,
      "outputs": [
        {
          "output_type": "error",
          "ename": "NameError",
          "evalue": "name 'pd' is not defined",
          "traceback": [
            "\u001b[0;31m---------------------------------------------------------------------------\u001b[0m",
            "\u001b[0;31mNameError\u001b[0m                                 Traceback (most recent call last)",
            "\u001b[0;32m<ipython-input-1-624328d29f0c>\u001b[0m in \u001b[0;36m<cell line: 8>\u001b[0;34m()\u001b[0m\n\u001b[1;32m      6\u001b[0m \u001b[0;34m\u001b[0m\u001b[0m\n\u001b[1;32m      7\u001b[0m \u001b[0;31m# json 파일 열기 및 파싱\u001b[0m\u001b[0;34m\u001b[0m\u001b[0;34m\u001b[0m\u001b[0m\n\u001b[0;32m----> 8\u001b[0;31m \u001b[0mtrainset\u001b[0m \u001b[0;34m=\u001b[0m \u001b[0mpd\u001b[0m\u001b[0;34m.\u001b[0m\u001b[0mread_json\u001b[0m\u001b[0;34m(\u001b[0m\u001b[0mfile_path_train\u001b[0m\u001b[0;34m)\u001b[0m\u001b[0;34m\u001b[0m\u001b[0;34m\u001b[0m\u001b[0m\n\u001b[0m\u001b[1;32m      9\u001b[0m \u001b[0mtrainset\u001b[0m \u001b[0;34m=\u001b[0m \u001b[0mpd\u001b[0m\u001b[0;34m.\u001b[0m\u001b[0mread_json\u001b[0m\u001b[0;34m(\u001b[0m\u001b[0mfile_path_test\u001b[0m\u001b[0;34m)\u001b[0m\u001b[0;34m\u001b[0m\u001b[0;34m\u001b[0m\u001b[0m\n\u001b[1;32m     10\u001b[0m \u001b[0;34m\u001b[0m\u001b[0m\n",
            "\u001b[0;31mNameError\u001b[0m: name 'pd' is not defined"
          ]
        }
      ]
    },
    {
      "cell_type": "code",
      "source": [
        "trainset[0]"
      ],
      "metadata": {
        "colab": {
          "base_uri": "https://localhost:8080/"
        },
        "id": "47ZzMYCLiRfQ",
        "outputId": "d706bbfc-9c3d-4d52-cacb-a94cc41f9273"
      },
      "execution_count": null,
      "outputs": [
        {
          "output_type": "execute_result",
          "data": {
            "text/plain": [
              "{'info': {'caseField': '1',\n",
              "  'detailField': '1',\n",
              "  'trailField': '2',\n",
              "  'caseNm': '대여금',\n",
              "  'courtNm': '울산지방법원',\n",
              "  'judmnAdjuDe': '2021. 05. 25.',\n",
              "  'relateLaword': [],\n",
              "  'qotatPrcdnt': []},\n",
              " 'concerned': {'acusr': '1', 'dedat': '1'},\n",
              " 'org': {'orgJdgmnCourtNm': '울산지방법원',\n",
              "  'orgJdgmnAdjuDe': '2019. 7. 11. ',\n",
              "  'orgJdgmnCaseNo': '2018가단68430'},\n",
              " 'assrs': {'acusrAssrs': ['피고는 원고들에게 000에 투자하면 한 달에 400만 원의 수익을 얻을 수 있고, 4개월이지나면 원금도 반환받을 수 있다고 설명하면서 원고들을 현혹하여 투자금을 유치하였다.',\n",
              "   '000는 전형적인 금융피라미드 수법의사기업체로서 원고들이 피고의 설명과 같은 수익을 올리거나 투자금을 반환받는 것이 불가능하였다.',\n",
              "   '피고는 이를 알면서도 위와 같이 원고들을 기망하여 000에 투자하도록 하였거나, 설령 그렇지 않더라도 원고들에게 000에 대한 투자의 위험성을 제대로 알리지 않은 과실이 있다. ',\n",
              "   '따라서 피고는 고의 또는 과실에 의한 불법행위에 대한 손해배상으로 원고들이 입은 위 투자금 상당의 손해를 배상할 책임이 있다.'],\n",
              "  'dedatAssrs': []},\n",
              " 'facts': ['원고 A은 2017. 12. 31. 0000에 거주하는 친구 F을 만나러 갔다가 당시 F의 집에 있던 F의 동생인 피고를 만나 비트코인 투자업체인 000에 대한 설명을 듣고 투자를 결심하였다.',\n",
              "  '나머지 원고들은 2018. 1. 6.경 0000소재 피고의 여동생이 운영하는 식당으로 피고를 만나러 가서 피고로부터 000에 대한 설명을 듣고 각 투자를 결심하였다.',\n",
              "  \"원고 A은 2017. 12. 31. 1,200만 원, 나머지 원고들은 2018. 1. 6. 각 1,650만 원을 피고 또는 피고의 여동생 G의 은행계좌로 송금하였고, 피고는 원고들이 송금한 위 돈으로 가상화폐 거래소인 000를 통해 비트코인을구입하여 000 내의 원고들 개인지갑으로이전하였다가 000 사이트에 개설한 원고들 명의 계정으로 원고들이 000에 투자할 수 있도록 하였다(이하 원고들의 위000에 대한 투자를 '이 사건 투자'라 한다).\",\n",
              "  '000 사이트는 2018. 1. 중순경 폐쇄되어, 원고들은 위 사이트를 통해 얻은 수익금이나 000 코인으로 전환하여 투자했던 비트코인을 출금하지 못하게 되었다.',\n",
              "  \"원고 A, C, D은 피고가 원고들을 기망하여 위 000 투자금 명목으로 합계 6,150만원을 교부받아 편취하였다는 혐의로 피고를 고소하였으나, 광주지방검찰청 검사는 2018. 9. 28. 피고에 대하여 불기소처분(증거불충분)을 하였다(이하 '관련 형사사건'이라 한다).\"],\n",
              " 'label': 1,\n",
              " 'id': 0}"
            ]
          },
          "metadata": {},
          "execution_count": 20
        }
      ]
    },
    {
      "cell_type": "markdown",
      "source": [
        "# 데이터 전처리"
      ],
      "metadata": {
        "id": "NfTQrwfR2Baf"
      }
    },
    {
      "cell_type": "code",
      "source": [
        "from google.colab import drive\n",
        "import json\n",
        "# json 파일 경로\n",
        "file_path_train = '/content/drive/MyDrive/Kaggle/6th-aikuthon/train.json'\n",
        "file_path_test = '/content/drive/MyDrive/Kaggle/6th-aikuthon/test.json'\n",
        "\n",
        "# json 파일 열기 및 파싱\n",
        "trainset = pd.read_json(file_path_train)\n",
        "testset = pd.read_json(file_path_test)\n",
        "\n",
        "# 데이터 확인\n",
        "print(trainset.head())"
      ],
      "metadata": {
        "id": "7sJNIOIM2Ia3",
        "colab": {
          "base_uri": "https://localhost:8080/"
        },
        "outputId": "b0cf720c-00b3-4613-bfe0-b378d9550961"
      },
      "execution_count": null,
      "outputs": [
        {
          "output_type": "stream",
          "name": "stdout",
          "text": [
            "                                                info  \\\n",
            "0  {'caseField': '1', 'detailField': '1', 'trailF...   \n",
            "1  {'caseField': '1', 'detailField': '1', 'trailF...   \n",
            "2  {'caseField': '1', 'detailField': '1', 'trailF...   \n",
            "3  {'caseField': '1', 'detailField': '1', 'trailF...   \n",
            "4  {'caseField': '1', 'detailField': '1', 'trailF...   \n",
            "\n",
            "                                       concerned  \\\n",
            "0                   {'acusr': '1', 'dedat': '1'}   \n",
            "1  {'acusr': '1', 'dedat': '일본소속A~J,O,P주식회사, K'}   \n",
            "2             {'acusr': '1', 'dedat': '국가, 자연인'}   \n",
            "3                   {'acusr': '1', 'dedat': '2'}   \n",
            "4                   {'acusr': '1', 'dedat': '2'}   \n",
            "\n",
            "                                                 org  \\\n",
            "0  {'orgJdgmnCourtNm': '울산지방법원', 'orgJdgmnAdjuDe'...   \n",
            "1  {'orgJdgmnCourtNm': '', 'orgJdgmnAdjuDe': '', ...   \n",
            "2  {'orgJdgmnCourtNm': '', 'orgJdgmnAdjuDe': '', ...   \n",
            "3  {'orgJdgmnCourtNm': '창원지방법원', 'orgJdgmnAdjuDe'...   \n",
            "4  {'orgJdgmnCourtNm': '대구지방법원 서부지원', 'orgJdgmnAd...   \n",
            "\n",
            "                                               assrs  \\\n",
            "0  {'acusrAssrs': ['피고는 원고들에게 000에 투자하면 한 달에 400만...   \n",
            "1  {'acusrAssrs': ['피고들은 노동력 확보라는 목적 아래 일본제국의 한반도...   \n",
            "2  {'acusrAssrs': ['피고 대한민국 소속 경찰들은 원고 A을 영장 없이 불...   \n",
            "3  {'acusrAssrs': ['피고는 이 사건 공사에 관한 사업주로서 산업안전보건법...   \n",
            "4  {'acusrAssrs': ['피고는 아래와 같은 이유로 원고들에 대하여 이 사건 ...   \n",
            "\n",
            "                                               facts  label  id  \n",
            "0  [원고 A은 2017. 12. 31. 0000에 거주하는 친구 F을 만나러 갔다가 ...      1   0  \n",
            "1  [별지 청구취지 표 피징용자란에 기재된 사람들은 구 일제강점하 강제동원피해 진상규명...      1   1  \n",
            "2  [2000,8. 10. 02:07 경 익산시 F 소재 G 부근에서 택시운전기사 H이...      0   2  \n",
            "3  [원고는 C에 D 25.5톤 덤프트럭(이하 '이 사건 차량'이라 한다)을 지입한 후...      1   3  \n",
            "4  [피고는 집합건물인 0000 소재 00000(이하 '이 사건 집합건물'이라 한다)을...      1   4  \n"
          ]
        }
      ]
    },
    {
      "cell_type": "code",
      "source": [
        "def is_non_numeric(value):\n",
        "    # 숫자 1, 2, 3, 4를 제외한 값이 있는지 확인\n",
        "    return value not in ['1', '2', '3', '4', '5']\n",
        "for concern in trainset['concerned']:\n",
        "  if is_non_numeric(concern['dedat']):\n",
        "    concern['dedat'] = 5\n",
        "  if is_non_numeric(concern['acusr']):\n",
        "    concern['acusr'] = 5\n",
        "\n",
        "\n",
        "trainset['concerned'].head()"
      ],
      "metadata": {
        "colab": {
          "base_uri": "https://localhost:8080/",
          "height": 241
        },
        "id": "kX7gkYxP20t4",
        "outputId": "e47fd07e-5640-4902-cf8f-935c40429428"
      },
      "execution_count": null,
      "outputs": [
        {
          "output_type": "execute_result",
          "data": {
            "text/plain": [
              "0    {'acusr': '1', 'dedat': '1'}\n",
              "1      {'acusr': '1', 'dedat': 5}\n",
              "2      {'acusr': '1', 'dedat': 5}\n",
              "3    {'acusr': '1', 'dedat': '2'}\n",
              "4    {'acusr': '1', 'dedat': '2'}\n",
              "Name: concerned, dtype: object"
            ],
            "text/html": [
              "<div>\n",
              "<style scoped>\n",
              "    .dataframe tbody tr th:only-of-type {\n",
              "        vertical-align: middle;\n",
              "    }\n",
              "\n",
              "    .dataframe tbody tr th {\n",
              "        vertical-align: top;\n",
              "    }\n",
              "\n",
              "    .dataframe thead th {\n",
              "        text-align: right;\n",
              "    }\n",
              "</style>\n",
              "<table border=\"1\" class=\"dataframe\">\n",
              "  <thead>\n",
              "    <tr style=\"text-align: right;\">\n",
              "      <th></th>\n",
              "      <th>concerned</th>\n",
              "    </tr>\n",
              "  </thead>\n",
              "  <tbody>\n",
              "    <tr>\n",
              "      <th>0</th>\n",
              "      <td>{'acusr': '1', 'dedat': '1'}</td>\n",
              "    </tr>\n",
              "    <tr>\n",
              "      <th>1</th>\n",
              "      <td>{'acusr': '1', 'dedat': 5}</td>\n",
              "    </tr>\n",
              "    <tr>\n",
              "      <th>2</th>\n",
              "      <td>{'acusr': '1', 'dedat': 5}</td>\n",
              "    </tr>\n",
              "    <tr>\n",
              "      <th>3</th>\n",
              "      <td>{'acusr': '1', 'dedat': '2'}</td>\n",
              "    </tr>\n",
              "    <tr>\n",
              "      <th>4</th>\n",
              "      <td>{'acusr': '1', 'dedat': '2'}</td>\n",
              "    </tr>\n",
              "  </tbody>\n",
              "</table>\n",
              "</div><br><label><b>dtype:</b> object</label>"
            ]
          },
          "metadata": {},
          "execution_count": 67
        }
      ]
    },
    {
      "cell_type": "code",
      "source": [
        "trainset['assrs'][0]\n",
        "trainset['facts'][0]\n",
        "\n",
        "trainset['label'][0]"
      ],
      "metadata": {
        "colab": {
          "base_uri": "https://localhost:8080/"
        },
        "id": "KcXCl3I64HfI",
        "outputId": "01efc275-e1b3-425e-89f0-e9716136fdb0"
      },
      "execution_count": null,
      "outputs": [
        {
          "output_type": "execute_result",
          "data": {
            "text/plain": [
              "1"
            ]
          },
          "metadata": {},
          "execution_count": 76
        }
      ]
    },
    {
      "cell_type": "code",
      "source": [],
      "metadata": {
        "id": "-4b5qDSf7D2S"
      },
      "execution_count": null,
      "outputs": []
    },
    {
      "cell_type": "code",
      "source": [
        "import torch\n",
        "import torch.nn as nn\n",
        "from transformers import BertTokenizer, BertModel\n",
        "\n",
        "class LegalPredictionModel(nn.Module):\n",
        "    def __init__(self, bert_model_name='monologg/kobert', num_categories=10, hidden_size=64):\n",
        "        super(LegalPredictionModel, self).__init__()\n",
        "\n",
        "        # BERT 모델 로드\n",
        "        self.bert = BertModel.from_pretrained(bert_model_name)\n",
        "\n",
        "        # 범주형 데이터 처리용 MLP\n",
        "        self.category_dense = nn.Linear(num_categories, hidden_size)\n",
        "        self.relu = nn.ReLU()\n",
        "\n",
        "        # 결합된 출력 처리용 레이어\n",
        "        bert_hidden_size = self.bert.config.hidden_size\n",
        "        self.classifier = nn.Linear(bert_hidden_size + hidden_size, 1)\n",
        "        self.sigmoid = nn.Sigmoid()\n",
        "\n",
        "    def forward(self, input_ids, attention_mask, category_input):\n",
        "        # BERT 처리\n",
        "        bert_output = self.bert(input_ids=input_ids, attention_mask=attention_mask)\n",
        "        pooled_output = bert_output.pooler_output\n",
        "\n",
        "        # 범주형 데이터 처리\n",
        "        category_output = self.relu(self.category_dense(category_input))\n",
        "\n",
        "        # BERT 출력과 범주형 데이터 출력 결합\n",
        "        combined_output = torch.cat((pooled_output, category_output), dim=1)\n",
        "\n",
        "        # 최종 예측\n",
        "        logits = self.classifier(combined_output)\n",
        "        output = self.sigmoid(logits)\n",
        "\n",
        "        return output\n",
        "\n",
        "# 하이퍼파라미터 설정\n",
        "max_len = 128\n",
        "num_categories = 10  # 범주형 데이터의 차원\n",
        "\n",
        "# 모델 초기화\n",
        "model = LegalPredictionModel(num_categories=num_categories)\n",
        "\n",
        "# 손실 함수와 옵티마이저 설정\n",
        "criterion = nn.BCELoss()\n",
        "optimizer = torch.optim.Adam(model.parameters(), lr=1e-5)\n",
        "\n",
        "# 모델 요약\n",
        "print(model)"
      ],
      "metadata": {
        "id": "1VEEjQJI1wwQ"
      },
      "execution_count": null,
      "outputs": []
    }
  ]
}